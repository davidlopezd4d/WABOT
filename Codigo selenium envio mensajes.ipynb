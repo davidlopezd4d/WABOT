{
 "cells": [
  {
   "cell_type": "code",
   "execution_count": 1,
   "metadata": {},
   "outputs": [],
   "source": [
    "from selenium import webdriver\n",
    "import pandas as pd\n",
    "from selenium.webdriver.common.keys import Keys\n",
    "import time\n",
    "import numpy as np\n"
   ]
  },
  {
   "cell_type": "code",
   "execution_count": 2,
   "metadata": {},
   "outputs": [],
   "source": [
    "import win32gui\n",
    "import win32con"
   ]
  },
  {
   "cell_type": "code",
   "execution_count": 3,
   "metadata": {},
   "outputs": [],
   "source": [
    "#!pip install pypiwin32 , win32gui"
   ]
  },
  {
   "cell_type": "code",
   "execution_count": 5,
   "metadata": {},
   "outputs": [],
   "source": [
    "driver = webdriver.Chrome('C:/Users/Admin/Downloads/chromedriver')\n",
    "driver.get('https://web.whatsapp.com')\n",
    "time.sleep(5)"
   ]
  },
  {
   "cell_type": "code",
   "execution_count": 6,
   "metadata": {},
   "outputs": [],
   "source": [
    "def envioWA(usuario,FirstName):\n",
    "    search = driver.find_elements_by_xpath('//*[@id=\"side\"]/div[1]/div/label/input')\n",
    "    search[0].send_keys(usuario)\n",
    "    time.sleep(4)\n",
    "    search[0].send_keys(Keys.RETURN) # hit return after you enter search text\n",
    "    time.sleep(1)\n",
    "    search = driver.find_elements_by_xpath('//*[@id=\"main\"]/footer/div[1]/div[2]/div/div[2]')\n",
    "    mensaje='Hola'+FirstName+'este en el mensaje diario de DICo - A continaucion el Informe Diario,'\n",
    "    search[0].send_keys(mensaje)\n",
    "    search[0].send_keys(Keys.RETURN) # hit return after you enter search text"
   ]
  },
  {
   "cell_type": "code",
   "execution_count": 13,
   "metadata": {},
   "outputs": [],
   "source": [
    "data = [['Daniel L', 'David'], ['nick', '15'], ['juli', '14']] \n",
    "  \n",
    "# Create the pandas DataFrame \n",
    "df = pd.DataFrame(data, columns = ['ID_Cliente__c', 'FirstName']) "
   ]
  },
  {
   "cell_type": "code",
   "execution_count": 14,
   "metadata": {},
   "outputs": [
    {
     "data": {
      "text/html": [
       "<div>\n",
       "<style scoped>\n",
       "    .dataframe tbody tr th:only-of-type {\n",
       "        vertical-align: middle;\n",
       "    }\n",
       "\n",
       "    .dataframe tbody tr th {\n",
       "        vertical-align: top;\n",
       "    }\n",
       "\n",
       "    .dataframe thead th {\n",
       "        text-align: right;\n",
       "    }\n",
       "</style>\n",
       "<table border=\"1\" class=\"dataframe\">\n",
       "  <thead>\n",
       "    <tr style=\"text-align: right;\">\n",
       "      <th></th>\n",
       "      <th>ID_Cliente__c</th>\n",
       "      <th>FirstName</th>\n",
       "    </tr>\n",
       "  </thead>\n",
       "  <tbody>\n",
       "    <tr>\n",
       "      <th>0</th>\n",
       "      <td>Daniel L</td>\n",
       "      <td>David</td>\n",
       "    </tr>\n",
       "    <tr>\n",
       "      <th>1</th>\n",
       "      <td>nick</td>\n",
       "      <td>15</td>\n",
       "    </tr>\n",
       "    <tr>\n",
       "      <th>2</th>\n",
       "      <td>juli</td>\n",
       "      <td>14</td>\n",
       "    </tr>\n",
       "  </tbody>\n",
       "</table>\n",
       "</div>"
      ],
      "text/plain": [
       "  ID_Cliente__c FirstName\n",
       "0      Daniel L     David\n",
       "1          nick        15\n",
       "2          juli        14"
      ]
     },
     "execution_count": 14,
     "metadata": {},
     "output_type": "execute_result"
    }
   ],
   "source": [
    "df"
   ]
  },
  {
   "cell_type": "code",
   "execution_count": 15,
   "metadata": {},
   "outputs": [],
   "source": [
    "for i in range(0,1):\n",
    "    try:\n",
    "        envioWA(str(df['ID_Cliente__c'].iloc[i]),df['FirstName'].iloc[i])\n",
    "    except:\n",
    "        print(str(df['ID_Cliente__c'].iloc[i]))"
   ]
  },
  {
   "cell_type": "code",
   "execution_count": 16,
   "metadata": {},
   "outputs": [],
   "source": [
    "## codigo "
   ]
  },
  {
   "cell_type": "code",
   "execution_count": 17,
   "metadata": {},
   "outputs": [],
   "source": [
    "send_to = 'Mivii Lopez'\n",
    "attach_name = 'D4D-CertificacionCtaAhorros Davivienda 20190829.pdf'\n",
    "\n",
    "new_chat = driver.find_elements_by_xpath('//*[@id=\"side\"]/div[1]/div/label/input')\n",
    "new_chat[0].send_keys(send_to, Keys.ENTER)\n",
    "\n",
    "\n",
    "# Find destinatary\n",
    "#new_chat = driver.find_element_by_id('input-chatlist-search')\n",
    "#new_chat.send_keys(send_to, Keys.ENTER)\n"
   ]
  },
  {
   "cell_type": "code",
   "execution_count": 18,
   "metadata": {},
   "outputs": [],
   "source": [
    "# Press Attach button\n",
    "button = driver.find_elements_by_xpath('//*[@id=\\\"main\\\"]/header/div[3]/div/div[2]/div/span')\n",
    "button[0].click()"
   ]
  },
  {
   "cell_type": "code",
   "execution_count": 19,
   "metadata": {},
   "outputs": [],
   "source": [
    "# Press Document button\n",
    "inp_xpath = '//*[@id=\\\"main\\\"]/header/div[3]/div/div[2]/span/div/div/ul/li[3]/button'\n",
    "button = driver.find_elements_by_xpath(inp_xpath)\n",
    "button[0].click()"
   ]
  },
  {
   "cell_type": "code",
   "execution_count": 20,
   "metadata": {},
   "outputs": [],
   "source": [
    "# Loop until Open dialog is displayed (my Windows version is in Spanish)\n",
    "hdlg = 0\n",
    "while hdlg == 0:\n",
    "    hdlg = win32gui.FindWindow(None, \"Open\")\n",
    "\n",
    "time.sleep(1)   # second. This pause is needed\n",
    "\n",
    "# Set filename and press Enter key\n",
    "hwnd = win32gui.FindWindowEx(hdlg, 0, 'ComboBoxEx32', None)\n",
    "hwnd = win32gui.FindWindowEx(hwnd, 0, 'ComboBox', None)\n",
    "hwnd = win32gui.FindWindowEx(hwnd, 0, 'Edit', None)\n"
   ]
  },
  {
   "cell_type": "code",
   "execution_count": 21,
   "metadata": {},
   "outputs": [
    {
     "data": {
      "text/plain": [
       "1"
      ]
     },
     "execution_count": 21,
     "metadata": {},
     "output_type": "execute_result"
    }
   ],
   "source": [
    "#filename = attach_path + attach_name\n",
    "filename = 'C:\\\\Users\\\\Admin\\\\Downloads\\\\D4D-CertificacionCtaAhorros Davivienda 20190829.pdf'\n",
    "win32gui.SendMessage(hwnd, win32con.WM_SETTEXT ,None, filename)\n",
    "#win32con.WM_SETTEXT,"
   ]
  },
  {
   "cell_type": "code",
   "execution_count": 22,
   "metadata": {},
   "outputs": [
    {
     "data": {
      "text/plain": [
       "0"
      ]
     },
     "execution_count": 22,
     "metadata": {},
     "output_type": "execute_result"
    }
   ],
   "source": [
    "\n",
    "# Press Save button\n",
    "hwnd = win32gui.FindWindowEx(hdlg, 0, 'Button', '&Open')\n",
    "\n",
    "win32gui.SendMessage(hwnd, win32con.BM_CLICK, None, None)"
   ]
  },
  {
   "cell_type": "code",
   "execution_count": 23,
   "metadata": {},
   "outputs": [
    {
     "ename": "IndexError",
     "evalue": "list index out of range",
     "output_type": "error",
     "traceback": [
      "\u001b[1;31m---------------------------------------------------------------------------\u001b[0m",
      "\u001b[1;31mIndexError\u001b[0m                                Traceback (most recent call last)",
      "\u001b[1;32m<ipython-input-23-3efd1adb4df0>\u001b[0m in \u001b[0;36m<module>\u001b[1;34m\u001b[0m\n\u001b[0;32m      2\u001b[0m \u001b[1;31m#inp_xpath = '//*[@id=\\\"main\\\"]/header/div[3]/div/div[2]/span/div/div/ul/li[3]/button'\u001b[0m\u001b[1;33m\u001b[0m\u001b[1;33m\u001b[0m\u001b[1;33m\u001b[0m\u001b[0m\n\u001b[0;32m      3\u001b[0m \u001b[0mbutton2\u001b[0m \u001b[1;33m=\u001b[0m \u001b[0mdriver\u001b[0m\u001b[1;33m.\u001b[0m\u001b[0mfind_elements_by_xpath\u001b[0m\u001b[1;33m(\u001b[0m\u001b[1;34m'//*[@id=\\\"main\\\"]/div/span[2]/div/div/span'\u001b[0m\u001b[1;33m)\u001b[0m\u001b[1;33m\u001b[0m\u001b[1;33m\u001b[0m\u001b[0m\n\u001b[1;32m----> 4\u001b[1;33m \u001b[0mbutton2\u001b[0m\u001b[1;33m[\u001b[0m\u001b[1;36m0\u001b[0m\u001b[1;33m]\u001b[0m\u001b[1;33m.\u001b[0m\u001b[0mclick\u001b[0m\u001b[1;33m(\u001b[0m\u001b[1;33m)\u001b[0m\u001b[1;33m\u001b[0m\u001b[1;33m\u001b[0m\u001b[0m\n\u001b[0m",
      "\u001b[1;31mIndexError\u001b[0m: list index out of range"
     ]
    }
   ],
   "source": [
    "# Press Send button\n",
    "#inp_xpath = '//*[@id=\\\"main\\\"]/header/div[3]/div/div[2]/span/div/div/ul/li[3]/button'\n",
    "button2 = driver.find_elements_by_xpath('//*[@id=\\\"main\\\"]/div/span[2]/div/div/span')\n",
    "button2[0].click()"
   ]
  },
  {
   "cell_type": "code",
   "execution_count": null,
   "metadata": {},
   "outputs": [],
   "source": []
  }
 ],
 "metadata": {
  "kernelspec": {
   "display_name": "Python 3",
   "language": "python",
   "name": "python3"
  },
  "language_info": {
   "codemirror_mode": {
    "name": "ipython",
    "version": 3
   },
   "file_extension": ".py",
   "mimetype": "text/x-python",
   "name": "python",
   "nbconvert_exporter": "python",
   "pygments_lexer": "ipython3",
   "version": "3.7.3"
  }
 },
 "nbformat": 4,
 "nbformat_minor": 2
}
